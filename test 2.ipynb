{
 "cells": [
  {
   "cell_type": "code",
   "execution_count": null,
   "metadata": {},
   "outputs": [],
   "source": [
    "# Enter your code here. Read input from STDIN. Print output to STDOUT\n",
    "\n",
    "import numpy as np\n",
    "import pandas as pd\n",
    "import scipy\n",
    "from sklearn import linear_model\n",
    "from sklearn.metrics import mean_squared_error\n",
    "\n",
    "train_np = np.genfromtxt('train.csv', delimiter=',')\n",
    "test_np = np.genfromtxt('test.csv', delimiter=',')\n",
    "\n",
    "full_train_x = train_np[:,0:500]\n",
    "full_train_y = train_np[:,500:501]\n",
    "\n",
    "val = train_np[-1000:,:]\n",
    "train = train_np[:-1000,:]\n",
    "\n",
    "x_train = train[:,0:500]\n",
    "y_train = train[:,500:501]\n",
    "\n",
    "x_val = val[:,0:500]\n",
    "y_val = val[:,500:501]\n",
    "\n",
    "regr = linear_model.LinearRegression()\n",
    "regr.fit(x_train, y_train)\n",
    "y_pred = regr.predict(x_val)\n",
    "\n",
    "\n",
    "regr_full = linear_model.LinearRegression()\n",
    "\n",
    "regr_full.fit(full_train_x, full_train_y)\n",
    "y_full_pred = regr_full.predict(test_np)\n",
    "\n",
    "np.savetxt('prediction.csv', y_full_pred, delimiter='\\n')\n",
    "\n",
    "print (mean_squared_error(y_pred, y_val))\n",
    "\n"
   ]
  }
 ],
 "metadata": {
  "kernelspec": {
   "display_name": "Python 3",
   "language": "python",
   "name": "python3"
  },
  "language_info": {
   "codemirror_mode": {
    "name": "ipython",
    "version": 3
   },
   "file_extension": ".py",
   "mimetype": "text/x-python",
   "name": "python",
   "nbconvert_exporter": "python",
   "pygments_lexer": "ipython3",
   "version": "3.6.3"
  }
 },
 "nbformat": 4,
 "nbformat_minor": 2
}
